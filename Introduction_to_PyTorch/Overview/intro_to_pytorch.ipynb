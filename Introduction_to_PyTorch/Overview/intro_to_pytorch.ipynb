{
 "cells": [
  {
   "cell_type": "code",
   "execution_count": 1,
   "id": "ea7624d8-60d0-4a99-80ac-27393c53fbca",
   "metadata": {},
   "outputs": [],
   "source": [
    "import torch"
   ]
  },
  {
   "cell_type": "code",
   "execution_count": 2,
   "id": "087b0040-7e18-4257-9043-7509bb106821",
   "metadata": {},
   "outputs": [
    {
     "name": "stdout",
     "output_type": "stream",
     "text": [
      "tensor([[0., 0., 0.],\n",
      "        [0., 0., 0.],\n",
      "        [0., 0., 0.],\n",
      "        [0., 0., 0.],\n",
      "        [0., 0., 0.]])\n",
      "torch.float32\n"
     ]
    }
   ],
   "source": [
    "######### zeros ########\n",
    "z = torch.zeros(5,3)\n",
    "print(z)\n",
    "print(z.dtype)"
   ]
  },
  {
   "cell_type": "code",
   "execution_count": 3,
   "id": "0a6b2064-aadb-44b1-871d-69b972a76a0d",
   "metadata": {},
   "outputs": [
    {
     "name": "stdout",
     "output_type": "stream",
     "text": [
      "tensor([[1., 1., 1.],\n",
      "        [1., 1., 1.],\n",
      "        [1., 1., 1.],\n",
      "        [1., 1., 1.],\n",
      "        [1., 1., 1.]])\n"
     ]
    }
   ],
   "source": [
    "######### ones ###########\n",
    "i = torch.ones((5,3))\n",
    "print(i)"
   ]
  },
  {
   "cell_type": "code",
   "execution_count": 8,
   "id": "cd82a93e-b2dd-4be4-914d-6f7d55585d01",
   "metadata": {},
   "outputs": [
    {
     "data": {
      "text/plain": [
       "tensor(5.5000)"
      ]
     },
     "execution_count": 8,
     "metadata": {},
     "output_type": "execute_result"
    }
   ],
   "source": [
    "torch.abs(torch.tensor(5.5))"
   ]
  },
  {
   "cell_type": "code",
   "execution_count": 11,
   "id": "d9b6e834-6254-426c-b7d6-c2f58e3bb273",
   "metadata": {},
   "outputs": [
    {
     "name": "stdout",
     "output_type": "stream",
     "text": [
      "tensor([[[1., 1.],\n",
      "         [1., 1.],\n",
      "         [1., 1.]],\n",
      "\n",
      "        [[1., 1.],\n",
      "         [1., 1.],\n",
      "         [1., 1.]],\n",
      "\n",
      "        [[1., 1.],\n",
      "         [1., 1.],\n",
      "         [1., 1.]],\n",
      "\n",
      "        [[1., 1.],\n",
      "         [1., 1.],\n",
      "         [1., 1.]]])\n",
      "tensor([[0.3834, 0.4351],\n",
      "        [0.5400, 0.7771],\n",
      "        [0.9542, 0.2415]])\n",
      "tensor([[0.3834, 0.4351],\n",
      "        [0.5400, 0.7771],\n",
      "        [0.9542, 0.2415]])\n"
     ]
    }
   ],
   "source": [
    "a = torch.ones(4,3,2)\n",
    "print(a)\n",
    "\n",
    "b = torch.rand(3,2)\n",
    "print(b)\n",
    "\n",
    "c = b * a\n",
    "print(b)"
   ]
  },
  {
   "cell_type": "markdown",
   "id": "7ebdefc4-412b-499a-b5d2-67ad516eb6f1",
   "metadata": {},
   "source": [
    "### More math with Tensors"
   ]
  },
  {
   "cell_type": "code",
   "execution_count": 17,
   "id": "619464b7-c6c1-41c1-8534-08964c77a76c",
   "metadata": {},
   "outputs": [
    {
     "name": "stdout",
     "output_type": "stream",
     "text": [
      "tensor([[1.8784, 0.7143, 1.0233, 0.4278],\n",
      "        [0.2330, 1.9138, 0.5607, 0.8980]])\n"
     ]
    }
   ],
   "source": [
    "a = torch.rand(2,4) * 2\n",
    "print(a)"
   ]
  },
  {
   "cell_type": "code",
   "execution_count": 18,
   "id": "295a6939-06d0-4ee3-998f-7adf6e0987a4",
   "metadata": {},
   "outputs": [
    {
     "data": {
      "text/plain": [
       "tensor([[1.8784, 0.7143, 1.0233, 0.4278],\n",
       "        [0.2330, 1.9138, 0.5607, 0.8980]])"
      ]
     },
     "execution_count": 18,
     "metadata": {},
     "output_type": "execute_result"
    }
   ],
   "source": [
    "torch.abs(a)"
   ]
  },
  {
   "cell_type": "code",
   "execution_count": 19,
   "id": "6ca6b90d-5742-4eac-9da4-7d591e6a3432",
   "metadata": {},
   "outputs": [
    {
     "data": {
      "text/plain": [
       "tensor([[2., 1., 2., 1.],\n",
       "        [1., 2., 1., 1.]])"
      ]
     },
     "execution_count": 19,
     "metadata": {},
     "output_type": "execute_result"
    }
   ],
   "source": [
    "torch.ceil(a)"
   ]
  },
  {
   "cell_type": "code",
   "execution_count": 20,
   "id": "06972ddd-9f38-4b6d-8a9d-7aa9588e0d2a",
   "metadata": {},
   "outputs": [
    {
     "data": {
      "text/plain": [
       "tensor([[1., 0., 1., 0.],\n",
       "        [0., 1., 0., 0.]])"
      ]
     },
     "execution_count": 20,
     "metadata": {},
     "output_type": "execute_result"
    }
   ],
   "source": [
    "torch.floor(a)"
   ]
  },
  {
   "cell_type": "code",
   "execution_count": 21,
   "id": "3c54f174-a0be-425e-950b-f5d11ecc77ec",
   "metadata": {},
   "outputs": [
    {
     "data": {
      "text/plain": [
       "tensor([[0.5000, 0.5000, 0.5000, 0.4278],\n",
       "        [0.2330, 0.5000, 0.5000, 0.5000]])"
      ]
     },
     "execution_count": 21,
     "metadata": {},
     "output_type": "execute_result"
    }
   ],
   "source": [
    "torch.clamp(a, -0.5, 0.5) ## limit the values between these range"
   ]
  },
  {
   "cell_type": "code",
   "execution_count": 26,
   "id": "ebf15ada-13ac-4de8-901a-88ff319c16d0",
   "metadata": {},
   "outputs": [
    {
     "name": "stdout",
     "output_type": "stream",
     "text": [
      "tensor([0.0000, 0.7854, 1.5708, 2.3562, 1.0000])\n"
     ]
    }
   ],
   "source": [
    "############## trigonometric ###############\n",
    "angles = torch.tensor([0, torch.math.pi / 4, torch.math.pi / 2, 3 * torch.math.pi / 4, 1])\n",
    "print(angles)"
   ]
  },
  {
   "cell_type": "code",
   "execution_count": 27,
   "id": "f0caecb5-d10e-45fd-bc3b-6a1f2c335e25",
   "metadata": {},
   "outputs": [
    {
     "name": "stdout",
     "output_type": "stream",
     "text": [
      "tensor([0.0000, 0.7071, 1.0000, 0.7071, 0.8415])\n"
     ]
    }
   ],
   "source": [
    "sines = torch.sin(angles)\n",
    "print(sines)"
   ]
  },
  {
   "cell_type": "code",
   "execution_count": 29,
   "id": "4ecb4cc1-f2c9-49fe-acc6-f0ab82e2322a",
   "metadata": {},
   "outputs": [
    {
     "name": "stdout",
     "output_type": "stream",
     "text": [
      "tensor([0.0000, 0.7854, 1.5708, 0.7854, 1.0000])\n"
     ]
    }
   ],
   "source": [
    "inverses = torch.asin(sines)\n",
    "print(inverses)"
   ]
  },
  {
   "cell_type": "code",
   "execution_count": null,
   "id": "3e56336e-5cfd-4784-95c5-971e67752457",
   "metadata": {},
   "outputs": [],
   "source": [
    "################## bitwise ##########\n",
    "b = torch.tensor"
   ]
  }
 ],
 "metadata": {
  "kernelspec": {
   "display_name": "Python 3 (ipykernel)",
   "language": "python",
   "name": "python3"
  },
  "language_info": {
   "codemirror_mode": {
    "name": "ipython",
    "version": 3
   },
   "file_extension": ".py",
   "mimetype": "text/x-python",
   "name": "python",
   "nbconvert_exporter": "python",
   "pygments_lexer": "ipython3",
   "version": "3.12.4"
  }
 },
 "nbformat": 4,
 "nbformat_minor": 5
}
