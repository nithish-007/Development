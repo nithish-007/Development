{
 "cells": [
  {
   "cell_type": "code",
   "execution_count": 1,
   "id": "50973b38-5176-40b8-99ce-67c48154e36d",
   "metadata": {},
   "outputs": [],
   "source": [
    "# necessary libraries \n",
    "import torch \n",
    "from torch import nn\n",
    "from torch.utils.data import DataLoader\n",
    "from torchvision import datasets\n",
    "from torchvision.transforms import ToTensor"
   ]
  },
  {
   "cell_type": "code",
   "execution_count": 2,
   "id": "deff2374-624b-428b-b34b-fd0b0de48c20",
   "metadata": {},
   "outputs": [],
   "source": [
    "# download and load training data from datasets\n",
    "training_data = datasets.FashionMNIST(\n",
    "    root = \"data\",\n",
    "    train = True,\n",
    "    download = True,\n",
    "    transform = ToTensor()\n",
    ")\n",
    "\n",
    "testing_data = datasets.FashionMNIST(\n",
    "    root = \"data\",\n",
    "    train = False,\n",
    "    download = True,\n",
    "    transform = ToTensor()\n",
    ")"
   ]
  },
  {
   "cell_type": "code",
   "execution_count": 4,
   "id": "de60c6ff-e9f8-4965-884a-e9aa6563679d",
   "metadata": {},
   "outputs": [
    {
     "name": "stdout",
     "output_type": "stream",
     "text": [
      "shape of X [N, C, H, W]: torch.Size([64, 1, 28, 28])\n",
      "shape of y : torch.Size([64]) torch.int64\n"
     ]
    }
   ],
   "source": [
    "# wraps an iterabe oveer our dataset\n",
    "\n",
    "batch_size = 64 \n",
    "\n",
    "# create data loaders\n",
    "train_dataloader = DataLoader(training_data, batch_size = batch_size)\n",
    "test_dataloader = DataLoader(testing_data, batch_size = batch_size)\n",
    "\n",
    "for x,y in test_dataloader:\n",
    "    print(f\"shape of X [N, C, H, W]: {x.shape}\")\n",
    "    print(f\"shape of y : {y.shape} {y.dtype}\")\n",
    "    break"
   ]
  },
  {
   "cell_type": "markdown",
   "id": "3613bf8d-bc44-465c-9cc5-c40c29aa5894",
   "metadata": {},
   "source": [
    "### Creating Models "
   ]
  },
  {
   "cell_type": "code",
   "execution_count": 5,
   "id": "15991548-b327-435e-98b3-25ea74e8d746",
   "metadata": {},
   "outputs": [
    {
     "name": "stdout",
     "output_type": "stream",
     "text": [
      "using cuda device\n",
      "NeuralNetwork(\n",
      "  (flatten): Flatten(start_dim=1, end_dim=-1)\n",
      "  (linear_relu_stack): Sequential(\n",
      "    (0): Linear(in_features=784, out_features=512, bias=True)\n",
      "    (1): ReLU()\n",
      "    (2): Linear(in_features=512, out_features=512, bias=True)\n",
      "    (3): ReLU()\n",
      "    (4): Linear(in_features=512, out_features=10, bias=True)\n",
      "  )\n",
      ")\n"
     ]
    }
   ],
   "source": [
    "# Get cpu, gpu orr mps device for training\n",
    "\n",
    "device = (\n",
    "    \"cuda\"\n",
    "    if torch.cuda.is_available()\n",
    "    else 'mps'\n",
    "    if torch.backends.mps.is_available()\n",
    "    else \"cpu\"\n",
    ")\n",
    "print(f'using {device} device')\n",
    "\n",
    "# Define model \n",
    "class NeuralNetwork(nn.Module):\n",
    "    def __init__(self):\n",
    "        super().__init__()\n",
    "        self.flatten = nn.Flatten()\n",
    "        self.linear_relu_stack = nn.Sequential(\n",
    "            nn.Linear(28*28, 512),\n",
    "            nn.ReLU(),\n",
    "            nn.Linear(512, 512), \n",
    "            nn.ReLU(),\n",
    "            nn.Linear(512,  10)\n",
    "        )\n",
    "        \n",
    "    def forward(self, x):\n",
    "        x = self.flatten(x)\n",
    "        logits = self.linear_relu_stack(x)\n",
    "        return logits\n",
    "\n",
    "\n",
    "model = NeuralNetwork().to(device)\n",
    "print(model)"
   ]
  },
  {
   "cell_type": "code",
   "execution_count": 6,
   "id": "b20aa578-e65c-4353-a2fa-8db96d57859d",
   "metadata": {
    "scrolled": true
   },
   "outputs": [
    {
     "name": "stdout",
     "output_type": "stream",
     "text": [
      "Sun Aug 25 22:04:31 2024       \n",
      "+-----------------------------------------------------------------------------------------+\n",
      "| NVIDIA-SMI 551.61                 Driver Version: 551.61         CUDA Version: 12.4     |\n",
      "|-----------------------------------------+------------------------+----------------------+\n",
      "| GPU  Name                     TCC/WDDM  | Bus-Id          Disp.A | Volatile Uncorr. ECC |\n",
      "| Fan  Temp   Perf          Pwr:Usage/Cap |           Memory-Usage | GPU-Util  Compute M. |\n",
      "|                                         |                        |               MIG M. |\n",
      "|=========================================+========================+======================|\n",
      "|   0  NVIDIA GeForce GTX 1660 Ti   WDDM  |   00000000:01:00.0 Off |                  N/A |\n",
      "| N/A   60C    P0             22W /   80W |      91MiB /   6144MiB |      1%      Default |\n",
      "|                                         |                        |                  N/A |\n",
      "+-----------------------------------------+------------------------+----------------------+\n",
      "                                                                                         \n",
      "+-----------------------------------------------------------------------------------------+\n",
      "| Processes:                                                                              |\n",
      "|  GPU   GI   CI        PID   Type   Process name                              GPU Memory |\n",
      "|        ID   ID                                                               Usage      |\n",
      "|=========================================================================================|\n",
      "|    0   N/A  N/A      8296    C+G   ...64__8wekyb3d8bbwe\\CalculatorApp.exe      N/A      |\n",
      "|    0   N/A  N/A     21384      C   D:\\miniconda3\\envs\\torch\\python.exe         N/A      |\n",
      "+-----------------------------------------------------------------------------------------+\n"
     ]
    }
   ],
   "source": [
    "!nvidia-smi"
   ]
  },
  {
   "cell_type": "markdown",
   "id": "bc71107b-cacb-4132-ad6c-34b553c4bc30",
   "metadata": {},
   "source": [
    "### loss and optimize the model parameters "
   ]
  },
  {
   "cell_type": "code",
   "execution_count": 7,
   "id": "d72addb0-4c38-430d-aa4b-d4197397e2de",
   "metadata": {},
   "outputs": [],
   "source": [
    "loss_fn = nn.CrossEntropyLoss()\n",
    "optimizer = torch.optim.SGD(model.parameters(), lr = 1e-3)"
   ]
  },
  {
   "cell_type": "code",
   "execution_count": 8,
   "id": "c0fafd16-63ac-4ee5-a269-ff7ee0839fe2",
   "metadata": {},
   "outputs": [],
   "source": [
    "def train(dataloader, model, loss_fn, optimizer):\n",
    "    size = len(dataloader.dataset)\n",
    "    model.train()\n",
    "    for batch, (X, y) in enumerate(dataloader):\n",
    "        X, y = X.to(device), y.to(device)\n",
    "\n",
    "        # Compute prediction error\n",
    "        pred = model(X)\n",
    "        loss = loss_fn(pred, y)\n",
    "\n",
    "        # Backpropagation\n",
    "        loss.backward()\n",
    "        optimizer.step()\n",
    "        optimizer.zero_grad()\n",
    "\n",
    "        if batch % 100 == 0:\n",
    "            loss, current = loss.item(), (batch + 1) * len(X)\n",
    "            print(f\"loss: {loss:>7f}  [{current:>5d}/{size:>5d}]\")"
   ]
  },
  {
   "cell_type": "code",
   "execution_count": 9,
   "id": "80255399-0527-40d7-a9ca-261ae6cc0f0e",
   "metadata": {},
   "outputs": [],
   "source": [
    "def test(dataloader, model, loss_fn):\n",
    "    size = len(dataloader.dataset)\n",
    "    num_batches = len(dataloader)\n",
    "    model.eval()\n",
    "    test_loss, correct = 0, 0\n",
    "    with torch.no_grad():\n",
    "        for X, y in dataloader:\n",
    "            X, y = X.to(device), y.to(device)\n",
    "            pred = model(X)\n",
    "            test_loss += loss_fn(pred, y).item()\n",
    "            correct += (pred.argmax(1) == y).type(torch.float).sum().item()\n",
    "    test_loss /= num_batches\n",
    "    correct /= size\n",
    "    print(f\"Test Error: \\n Accuracy: {(100*correct):>0.1f}%, Avg loss: {test_loss:>8f} \\n\")"
   ]
  },
  {
   "cell_type": "code",
   "execution_count": 10,
   "id": "51f14d0a-abed-4c90-947d-72934847cb54",
   "metadata": {},
   "outputs": [
    {
     "name": "stdout",
     "output_type": "stream",
     "text": [
      "Epoch 1\n",
      "-----------------------------\n",
      "loss: 2.299022  [   64/60000]\n",
      "loss: 2.294359  [ 6464/60000]\n",
      "loss: 2.271032  [12864/60000]\n",
      "loss: 2.266161  [19264/60000]\n",
      "loss: 2.249024  [25664/60000]\n",
      "loss: 2.213886  [32064/60000]\n",
      "loss: 2.220034  [38464/60000]\n",
      "loss: 2.180076  [44864/60000]\n",
      "loss: 2.181636  [51264/60000]\n",
      "loss: 2.142188  [57664/60000]\n",
      "Test Error: \n",
      " Accuracy: 44.9%, Avg loss: 2.139499 \n",
      "\n",
      "Epoch 2\n",
      "-----------------------------\n",
      "loss: 2.154042  [   64/60000]\n",
      "loss: 2.147754  [ 6464/60000]\n",
      "loss: 2.080833  [12864/60000]\n",
      "loss: 2.095997  [19264/60000]\n",
      "loss: 2.041809  [25664/60000]\n",
      "loss: 1.979583  [32064/60000]\n",
      "loss: 2.000118  [38464/60000]\n",
      "loss: 1.916420  [44864/60000]\n",
      "loss: 1.927327  [51264/60000]\n",
      "loss: 1.833626  [57664/60000]\n",
      "Test Error: \n",
      " Accuracy: 61.2%, Avg loss: 1.844657 \n",
      "\n",
      "Epoch 3\n",
      "-----------------------------\n",
      "loss: 1.881708  [   64/60000]\n",
      "loss: 1.851019  [ 6464/60000]\n",
      "loss: 1.726126  [12864/60000]\n",
      "loss: 1.768265  [19264/60000]\n",
      "loss: 1.653540  [25664/60000]\n",
      "loss: 1.612690  [32064/60000]\n",
      "loss: 1.621864  [38464/60000]\n",
      "loss: 1.524785  [44864/60000]\n",
      "loss: 1.555287  [51264/60000]\n",
      "loss: 1.435181  [57664/60000]\n",
      "Test Error: \n",
      " Accuracy: 62.6%, Avg loss: 1.467553 \n",
      "\n",
      "Epoch 4\n",
      "-----------------------------\n",
      "loss: 1.533396  [   64/60000]\n",
      "loss: 1.504188  [ 6464/60000]\n",
      "loss: 1.350787  [12864/60000]\n",
      "loss: 1.427634  [19264/60000]\n",
      "loss: 1.312809  [25664/60000]\n",
      "loss: 1.315881  [32064/60000]\n",
      "loss: 1.322682  [38464/60000]\n",
      "loss: 1.244057  [44864/60000]\n",
      "loss: 1.290768  [51264/60000]\n",
      "loss: 1.183136  [57664/60000]\n",
      "Test Error: \n",
      " Accuracy: 63.7%, Avg loss: 1.215366 \n",
      "\n",
      "Epoch 5\n",
      "-----------------------------\n",
      "loss: 1.287914  [   64/60000]\n",
      "loss: 1.277740  [ 6464/60000]\n",
      "loss: 1.108711  [12864/60000]\n",
      "loss: 1.219508  [19264/60000]\n",
      "loss: 1.102284  [25664/60000]\n",
      "loss: 1.128838  [32064/60000]\n",
      "loss: 1.147411  [38464/60000]\n",
      "loss: 1.075305  [44864/60000]\n",
      "loss: 1.129864  [51264/60000]\n",
      "loss: 1.039855  [57664/60000]\n",
      "Test Error: \n",
      " Accuracy: 64.5%, Avg loss: 1.063208 \n",
      "\n",
      "Done!\n"
     ]
    }
   ],
   "source": [
    "epochs = 5\n",
    "\n",
    "for t in range(epochs):\n",
    "    print(F\"Epoch {t+1}\\n-----------------------------\")\n",
    "    train(train_dataloader, model, loss_fn, optimizer)\n",
    "    test(test_dataloader, model, loss_fn)\n",
    "\n",
    "print(\"Done!\")"
   ]
  },
  {
   "cell_type": "markdown",
   "id": "f77d6bde-ff87-4646-bdef-d6981e9c9662",
   "metadata": {},
   "source": [
    "## Saving the model"
   ]
  },
  {
   "cell_type": "code",
   "execution_count": 11,
   "id": "ece50c92-336f-418f-8cf2-658f4c720b4a",
   "metadata": {},
   "outputs": [
    {
     "name": "stdout",
     "output_type": "stream",
     "text": [
      "Saved PyTorch Model State to model.pth\n"
     ]
    }
   ],
   "source": [
    "torch.save(model.state_dict(), \"model.pth\")\n",
    "print(\"Saved PyTorch Model State to model.pth\")"
   ]
  },
  {
   "cell_type": "markdown",
   "id": "3f3bdacf-f7eb-4cae-bfd1-b37eb092ea5e",
   "metadata": {},
   "source": [
    "## Loading Models"
   ]
  },
  {
   "cell_type": "code",
   "execution_count": 12,
   "id": "44769c2a-c0a8-4878-94af-8ea626a534e8",
   "metadata": {},
   "outputs": [
    {
     "name": "stderr",
     "output_type": "stream",
     "text": [
      "C:\\Users\\nithish.kumar\\AppData\\Local\\Temp\\ipykernel_21384\\2085806346.py:2: FutureWarning: You are using `torch.load` with `weights_only=False` (the current default value), which uses the default pickle module implicitly. It is possible to construct malicious pickle data which will execute arbitrary code during unpickling (See https://github.com/pytorch/pytorch/blob/main/SECURITY.md#untrusted-models for more details). In a future release, the default value for `weights_only` will be flipped to `True`. This limits the functions that could be executed during unpickling. Arbitrary objects will no longer be allowed to be loaded via this mode unless they are explicitly allowlisted by the user via `torch.serialization.add_safe_globals`. We recommend you start setting `weights_only=True` for any use case where you don't have full control of the loaded file. Please open an issue on GitHub for any issues related to this experimental feature.\n",
      "  model.load_state_dict(torch.load(\"model.pth\"))\n"
     ]
    },
    {
     "data": {
      "text/plain": [
       "<All keys matched successfully>"
      ]
     },
     "execution_count": 12,
     "metadata": {},
     "output_type": "execute_result"
    }
   ],
   "source": [
    "model = NeuralNetwork().to(device)\n",
    "model.load_state_dict(torch.load(\"model.pth\"))"
   ]
  },
  {
   "cell_type": "code",
   "execution_count": 13,
   "id": "c978e7e3-7bef-4472-b19d-808a076fd8e0",
   "metadata": {},
   "outputs": [
    {
     "name": "stdout",
     "output_type": "stream",
     "text": [
      "Predicted: \"Ankle boot\", Actual: \"Ankle boot\"\n"
     ]
    }
   ],
   "source": [
    "classes = [\n",
    "    \"T-shirt/top\",\n",
    "    \"Trouser\",\n",
    "    \"Pullover\",\n",
    "    \"Dress\",\n",
    "    \"Coat\",\n",
    "    \"Sandal\",\n",
    "    \"Shirt\",\n",
    "    \"Sneaker\",\n",
    "    \"Bag\",\n",
    "    \"Ankle boot\",\n",
    "]\n",
    "\n",
    "model.eval()\n",
    "x, y = testing_data[0][0], testing_data[0][1]\n",
    "with torch.no_grad():\n",
    "    x = x.to(device)\n",
    "    pred = model(x)\n",
    "    predicted, actual = classes[pred[0].argmax(0)], classes[y]\n",
    "    print(f'Predicted: \"{predicted}\", Actual: \"{actual}\"')"
   ]
  },
  {
   "cell_type": "code",
   "execution_count": null,
   "id": "f4f439d9-19fd-4f8e-bd3d-850010f7b039",
   "metadata": {},
   "outputs": [],
   "source": []
  }
 ],
 "metadata": {
  "kernelspec": {
   "display_name": "Python 3 (ipykernel)",
   "language": "python",
   "name": "python3"
  },
  "language_info": {
   "codemirror_mode": {
    "name": "ipython",
    "version": 3
   },
   "file_extension": ".py",
   "mimetype": "text/x-python",
   "name": "python",
   "nbconvert_exporter": "python",
   "pygments_lexer": "ipython3",
   "version": "3.12.4"
  },
  "widgets": {
   "application/vnd.jupyter.widget-state+json": {
    "state": {},
    "version_major": 2,
    "version_minor": 0
   }
  }
 },
 "nbformat": 4,
 "nbformat_minor": 5
}
